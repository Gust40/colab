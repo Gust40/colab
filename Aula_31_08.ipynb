{
  "nbformat": 4,
  "nbformat_minor": 0,
  "metadata": {
    "colab": {
      "name": "Aula-31-08.ipynb",
      "provenance": [],
      "authorship_tag": "ABX9TyNTM2gStmDd1b/ZsDW22kYa",
      "include_colab_link": true
    },
    "kernelspec": {
      "name": "python3",
      "display_name": "Python 3"
    }
  },
  "cells": [
    {
      "cell_type": "markdown",
      "metadata": {
        "id": "view-in-github",
        "colab_type": "text"
      },
      "source": [
        "<a href=\"https://colab.research.google.com/github/Gust40/colab/blob/master/Aula_31_08.ipynb\" target=\"_parent\"><img src=\"https://colab.research.google.com/assets/colab-badge.svg\" alt=\"Open In Colab\"/></a>"
      ]
    },
    {
      "cell_type": "code",
      "metadata": {
        "id": "85GnmLbxSjWM",
        "colab_type": "code",
        "colab": {
          "base_uri": "https://localhost:8080/",
          "height": 88
        },
        "outputId": "aeef3566-393a-4fa1-a42c-80d9dab3e4a9"
      },
      "source": [
        "'''Var1 = 'Segundo a versão final da proposta, em 2021, serão destinados R$ 144,538 bilhões à educação, e R$ 116,127 bilhões à defesa – ambos, valores maiores que os de 2020. Durante a elaboração do texto, o governo chegou a estudar um orçamento maior para defesa que para educação, o que gerou críticas de especialistas.'\n",
        "print( len(Var1) ) # Quantidade de caracteres do texto!\n",
        "Palavras = Var1.split() \n",
        "print(Palavras)\n",
        "print( len(Palavras) )'''\n",
        "\n",
        "'''Var2 = 'Carro Copo televisão e show'\n",
        "Palavras2 = Var2.split('o')\n",
        "print(Palavras2)'''\n",
        "\n",
        "'''T1 = 1234\n",
        "T2 = 15.5\n",
        "T3 = T1 / T2\n",
        "print(T3)'''\n",
        "\n",
        "'''Lista1 = [1, 2, 3, 4, 5]\n",
        "print( type(Lista1) )\n",
        "Lista2 = ['Um', 'Dois', 'Três', 'Quatro', 'Cinco']\n",
        "print( type(Lista2) )\n",
        "Lista3 = [1.0, 2.0, 3.0, 4.0, 5.0]\n",
        "print( type(Lista3) )'''\n",
        "\n",
        "'''ExLista = [5, 'Um', 2.0, True]\n",
        "print(ExLista)\n",
        "ExLista[0] = ExLista[0]**3\n",
        "print(ExLista)'''\n",
        "\n",
        "'''ExLista = [5, 'Um', 2.0, True]\n",
        "ExLista[-1] = ExLista[0]*ExLista[2]\n",
        "print(ExLista)\n",
        "ExLista.append(ExLista[1] + ' e Dois')\n",
        "ExLista.append(154)\n",
        "print(ExLista)\n",
        "ultimo = ExLista.pop()\n",
        "print(ExLista)\n",
        "print(ultimo)'''\n",
        "\n",
        "'''ExLista = [5, 'Um', 99.99, True]\n",
        "Extraio = ExLista.pop(2)\n",
        "print(ExLista)\n",
        "print(Extraio)'''\n",
        "\n",
        "'''L1 = [9, 12, 0, 3.6, 85.3, 99/9, 120/14]\n",
        "print(L1)\n",
        "L1.sort()\n",
        "print(L1)\n",
        "\n",
        "L2 = ['g', 'a', 'i', 'z', 'cx', 'xadrez']\n",
        "L2.sort()\n",
        "print(L2)\n",
        "\n",
        "L3 = ['zebra', 'dois', 'faca']\n",
        "L3.sort()\n",
        "print(L3)'''\n",
        "\n",
        "'''L1 = [9, 12, 0, 3.6, 85.3, 99/9, 69]\n",
        "print(L1)\n",
        "L1.reverse()\n",
        "print(L1)'''\n",
        "\n",
        "'''L1 = [9, 12, 0, 3.6, 85.3, 99/9, 69]\n",
        "print(L1)\n",
        "L1.sort()\n",
        "print(L1)\n",
        "L1.reverse()\n",
        "print(L1)'''\n",
        "\n",
        "'''L1 = [9, 12, 0, 3.6, 85.3, 99/9, 69]\n",
        "print(sum(L1))'''\n",
        "\n",
        "# Dicionários:\n",
        "\n",
        "'''CustoFrutas = {'banana':1.99, 'laranja':0.99}\n",
        "print(CustoFrutas)\n",
        "print(CustoFrutas['laranja'])\n",
        "CustoFrutas['uva'] = 3.99\n",
        "print(CustoFrutas)\n",
        "CustoFrutas['banana'] = .99\n",
        "print(CustoFrutas)'''\n",
        "\n",
        "'''Pessoas = {'Leonardo':'Souza', 'Paulo':'Moreira', 'Max':'Vizcarra'}\n",
        "print(Pessoas)\n",
        "print(Pessoas['Paulo']) # Sobrenome do Paulo\n",
        "print(Pessoas['Paulo'][-1])\n",
        "Pessoas['Jose'] = ['Renato', 'Antunes', 3]\n",
        "print(Pessoas)'''\n",
        "\n",
        "'''L1 = ['Gol', 'Jetta', 'Compass']\n",
        "L1[-1] = L1[-1].upper()\n",
        "print(L1)\n",
        "L1[-1] = L1[-1].lower()\n",
        "print(L1)'''\n",
        "\n",
        "Lx = 'Segundo a versão final da proposta, em 2021, serão destinados R$ 144,538 bilhões à educação, e R$ 116,127 bilhões à defesa – ambos, valores maiores que os de 2020. Durante a elaboração do texto, o governo chegou a estudar um orçamento maior para defesa que para educação, o que gerou críticas de especialistas.'\n",
        "Lx = Lx.lower()\n",
        "print(Lx)\n",
        "MinhaLx = Lx.split()\n",
        "print(MinhaLx)\n",
        "MinhaLx[0] = MinhaLx[0][0].upper() + MinhaLx[0][1:]\n",
        "print(MinhaLx)"
      ],
      "execution_count": 1,
      "outputs": [
        {
          "output_type": "stream",
          "text": [
            "segundo a versão final da proposta, em 2021, serão destinados r$ 144,538 bilhões à educação, e r$ 116,127 bilhões à defesa – ambos, valores maiores que os de 2020. durante a elaboração do texto, o governo chegou a estudar um orçamento maior para defesa que para educação, o que gerou críticas de especialistas.\n",
            "['segundo', 'a', 'versão', 'final', 'da', 'proposta,', 'em', '2021,', 'serão', 'destinados', 'r$', '144,538', 'bilhões', 'à', 'educação,', 'e', 'r$', '116,127', 'bilhões', 'à', 'defesa', '–', 'ambos,', 'valores', 'maiores', 'que', 'os', 'de', '2020.', 'durante', 'a', 'elaboração', 'do', 'texto,', 'o', 'governo', 'chegou', 'a', 'estudar', 'um', 'orçamento', 'maior', 'para', 'defesa', 'que', 'para', 'educação,', 'o', 'que', 'gerou', 'críticas', 'de', 'especialistas.']\n",
            "['Segundo', 'a', 'versão', 'final', 'da', 'proposta,', 'em', '2021,', 'serão', 'destinados', 'r$', '144,538', 'bilhões', 'à', 'educação,', 'e', 'r$', '116,127', 'bilhões', 'à', 'defesa', '–', 'ambos,', 'valores', 'maiores', 'que', 'os', 'de', '2020.', 'durante', 'a', 'elaboração', 'do', 'texto,', 'o', 'governo', 'chegou', 'a', 'estudar', 'um', 'orçamento', 'maior', 'para', 'defesa', 'que', 'para', 'educação,', 'o', 'que', 'gerou', 'críticas', 'de', 'especialistas.']\n"
          ],
          "name": "stdout"
        }
      ]
    }
  ]
}