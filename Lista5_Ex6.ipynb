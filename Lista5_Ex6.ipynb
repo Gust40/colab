{
  "nbformat": 4,
  "nbformat_minor": 0,
  "metadata": {
    "colab": {
      "name": "Lista5-Ex6.ipynb",
      "provenance": [],
      "authorship_tag": "ABX9TyMpaM3svrIKMV5bRkd9tId/",
      "include_colab_link": true
    },
    "kernelspec": {
      "name": "python3",
      "display_name": "Python 3"
    }
  },
  "cells": [
    {
      "cell_type": "markdown",
      "metadata": {
        "id": "view-in-github",
        "colab_type": "text"
      },
      "source": [
        "<a href=\"https://colab.research.google.com/github/Gust40/colab/blob/master/Lista5_Ex6.ipynb\" target=\"_parent\"><img src=\"https://colab.research.google.com/assets/colab-badge.svg\" alt=\"Open In Colab\"/></a>"
      ]
    },
    {
      "cell_type": "code",
      "metadata": {
        "colab": {
          "base_uri": "https://localhost:8080/"
        },
        "id": "R_HrJGh7nxFg",
        "outputId": "0ccacb3c-f179-40ef-f584-8d4f8d506fb1"
      },
      "source": [
        "# Disciplina: Probabilidade e Estatística\n",
        "# Aluno: Gustavo Ferreira da Silva\n",
        "# Lista 5\n",
        "\n",
        "#Exercício 6\n",
        "\n",
        "import statistics #importa os calculos da biblioteca statistics\n",
        "x = int(input('Insira uma nota entre 0 e 10: ')) #O usuario deve inserir uma nota entre 0 e 10\n",
        "if x>= 0 and x<=10: #Se x for maior ou igual a 0 e menor ou igual a 10\n",
        "  y = int(input('Insira uma segunda nota entre 0 e 10: ')) #O usuario deve inserir uma nota entre 0 e 10\n",
        "  if y>=0 and y<=10: #Se y for maior ou igual a 0 e menor ou igual a 10\n",
        "    z = int(input('Insira uma terceira nota entre 0 e 10: ')) #O usuario deve inserir uma nota entre 0 e 10\n",
        "    if z>=0 and z<=10: #Se z for maior ou igual a 0 e menor ou igual a 10\n",
        "      MP = x*3+y*4+z*3 # Multiplicado as notas pelos seus pesos e somado o resultado das multiplicações\n",
        "      print(MP/(3+4+3)) # O resultado da soma é divido pela soma dos pesos\n",
        "\n",
        "\n"
      ],
      "execution_count": 42,
      "outputs": [
        {
          "output_type": "stream",
          "text": [
            "Insira uma nota entre 0 e 10: 10\n",
            "Insira uma segunda nota entre 0 e 10: 10\n",
            "Insira uma terceira nota entre 0 e 10: 10\n",
            "10.0\n"
          ],
          "name": "stdout"
        }
      ]
    }
  ]
}