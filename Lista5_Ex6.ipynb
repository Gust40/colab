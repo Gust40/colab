{
  "nbformat": 4,
  "nbformat_minor": 0,
  "metadata": {
    "colab": {
      "name": "Lista5-Ex6.ipynb",
      "provenance": [],
      "authorship_tag": "ABX9TyPqiLzL9A1hhJKw+2y4IIXA",
      "include_colab_link": true
    },
    "kernelspec": {
      "name": "python3",
      "display_name": "Python 3"
    }
  },
  "cells": [
    {
      "cell_type": "markdown",
      "metadata": {
        "id": "view-in-github",
        "colab_type": "text"
      },
      "source": [
        "<a href=\"https://colab.research.google.com/github/Gust40/colab/blob/master/Lista5_Ex6.ipynb\" target=\"_parent\"><img src=\"https://colab.research.google.com/assets/colab-badge.svg\" alt=\"Open In Colab\"/></a>"
      ]
    },
    {
      "cell_type": "code",
      "metadata": {
        "colab": {
          "base_uri": "https://localhost:8080/"
        },
        "id": "R_HrJGh7nxFg",
        "outputId": "d85d1a92-7459-4479-e063-7a44c2bd476a"
      },
      "source": [
        "# Disciplina: Probabilidade e Estatística\n",
        "# Aluno: Gustavo Ferreira da Silva\n",
        "# Lista 5\n",
        "\n",
        "#Exercício 6\n",
        "\n",
        "import statistics #importa os calculos da biblioteca statistics\n",
        "x = int(input('Insira uma nota entre 0 e 10: '))\n",
        "if x>= 0 and x<=10:\n",
        "  y = int(input('Insira uma segunda nota entre 0 e 10: '))\n",
        "  if y>=0 and y<=10:\n",
        "    z = int(input('Insira uma terceira nota entre 0 e 10: '))\n",
        "    if z>=0 and z<=10:\n",
        "      MP = x*3+y*4+z*3\n",
        "      print(MP/(3+4+3))\n",
        "\n",
        "\n"
      ],
      "execution_count": 40,
      "outputs": [
        {
          "output_type": "stream",
          "text": [
            "Insira uma nota entre 0 e 10: 10\n",
            "Insira uma segunda nota entre 0 e 10: 10\n",
            "Insira uma terceira nota entre 0 e 10: 10\n",
            "10.0\n"
          ],
          "name": "stdout"
        }
      ]
    }
  ]
}