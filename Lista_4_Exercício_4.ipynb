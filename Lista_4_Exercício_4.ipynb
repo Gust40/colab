{
  "nbformat": 4,
  "nbformat_minor": 0,
  "metadata": {
    "colab": {
      "name": "Lista-4-Exercício-4.ipynb",
      "provenance": [],
      "authorship_tag": "ABX9TyM47LTJC2gQ2kC90+oojQPI",
      "include_colab_link": true
    },
    "kernelspec": {
      "name": "python3",
      "display_name": "Python 3"
    }
  },
  "cells": [
    {
      "cell_type": "markdown",
      "metadata": {
        "id": "view-in-github",
        "colab_type": "text"
      },
      "source": [
        "<a href=\"https://colab.research.google.com/github/Gust40/colab/blob/master/Lista_4_Exerc%C3%ADcio_4.ipynb\" target=\"_parent\"><img src=\"https://colab.research.google.com/assets/colab-badge.svg\" alt=\"Open In Colab\"/></a>"
      ]
    },
    {
      "cell_type": "code",
      "metadata": {
        "id": "vHZzzryq7Bc3"
      },
      "source": [
        "#Disciplina: Probabilidade e Estatística\n",
        "#Aluno: Gustavo Ferreira da Silva\n",
        "#Lista 4\n",
        "\n",
        "#Exercício 4\n",
        "\n",
        "l1 = int(input(\"Digite o valor do lado 1: \"))\n",
        "l2 = int(input(\"Digite o valor do lado 2: \")) #O usuário deve digitar os valores dos lados l1, l2 e l3 do triângulo\n",
        "l3 = int(input(\"Digite o valor do lado 3: \"))\n",
        "\n",
        "if l1 == l2 == l3: #se os lados forem iguais\n",
        "\tprint(\"Equilatero\") #Imprimir equilatero\n",
        "elif l1 == l2 or l1 == l3 or l2 == l3: #se existir dois lados iguais e um diferente\n",
        "\tprint(\"Isósceles\") #Imprimir isósceles\n",
        "else: #Caso nenhum lado for igual\n",
        "\tprint(\"Escaleno\") #Imprimir escaleno"
      ],
      "execution_count": null,
      "outputs": []
    }
  ]
}