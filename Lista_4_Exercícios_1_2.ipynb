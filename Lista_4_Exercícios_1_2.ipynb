{
  "nbformat": 4,
  "nbformat_minor": 0,
  "metadata": {
    "colab": {
      "name": "Lista-4-Exercícios-1-2.ipynb",
      "provenance": [],
      "authorship_tag": "ABX9TyMQPAk8t6av/Rt75RZr7T1q",
      "include_colab_link": true
    },
    "kernelspec": {
      "name": "python3",
      "display_name": "Python 3"
    }
  },
  "cells": [
    {
      "cell_type": "markdown",
      "metadata": {
        "id": "view-in-github",
        "colab_type": "text"
      },
      "source": [
        "<a href=\"https://colab.research.google.com/github/Gust40/colab/blob/master/Lista_4_Exerc%C3%ADcios_1_2.ipynb\" target=\"_parent\"><img src=\"https://colab.research.google.com/assets/colab-badge.svg\" alt=\"Open In Colab\"/></a>"
      ]
    },
    {
      "cell_type": "code",
      "metadata": {
        "id": "ZA_0m7Ks8JDa"
      },
      "source": [
        "#Disciplina: Probabilidade e Estatística\n",
        "#Aluno: Gustavo Ferreira da Silva\n",
        "#Lista 4\n",
        "\n",
        "#Exercício 1 e 2\n",
        "\n",
        "lados = int(input('Digite a quantidade de lados: ')) #O usuário deve digitar a quantidade de lados do polígono. A quantidade de lados é um número inteiro.\n",
        "lado = float(input('Digite a medida do lado: ')) #O usuário deve digitar a medida dos lados do polígono. A medida um número real.\n",
        "if lados == 3: #Se os lados forem igual a 3, será executado tudo que está dentro deste if.\n",
        "  area = lado ** 2 * 3 ** (1/2) / 4 #Fórmula da área de um trângulo.\n",
        "  print('A figura é um triângulo.') #Print vai mostrar na tela que é um triângulo.\n",
        "  print('A área é: %.2fcm²'%area) #Print vai mostrar na tela o resultado do cálculo da área do triângulo.\n",
        "elif lados == 4: #Se os lados forem igual a 4, será executado tudo que está dentro deste elif.\n",
        "  area = lado ** 2 #Formula da área de um quadrado.\n",
        "  print('A figura é um quadrado.') #Print vai mostrar na tela que é um quadrado.\n",
        "  print('A área é: %.2fcm²'%area) #Resultado do cálculo da área do quadrado.\n",
        "elif lados == 5: #Se tiver 5 lados.\n",
        "  print('A figura é um pentágono.') #Mostra na tela que é um pentágono.\n",
        "elif lados < 3: #Se os lados forem menor que 3.\n",
        "  print('Não é um polígono.') #Mostra na tela que não é um polígono.\n",
        "elif lados > 5: #Se os lados forem maior que 5.\n",
        "  print('Polígono não identificado') #Mostra na tela que não foi identificado este polígono.\n",
        "\n",
        "\n",
        "\n",
        "\n"
      ],
      "execution_count": null,
      "outputs": []
    }
  ]
}