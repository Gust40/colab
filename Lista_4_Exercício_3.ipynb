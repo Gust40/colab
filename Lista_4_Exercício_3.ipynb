{
  "nbformat": 4,
  "nbformat_minor": 0,
  "metadata": {
    "colab": {
      "name": "Lista-4-Exercício-3.ipynb",
      "provenance": [],
      "authorship_tag": "ABX9TyNn8f2/YOb7daZ5hlq2OFJq",
      "include_colab_link": true
    },
    "kernelspec": {
      "name": "python3",
      "display_name": "Python 3"
    }
  },
  "cells": [
    {
      "cell_type": "markdown",
      "metadata": {
        "id": "view-in-github",
        "colab_type": "text"
      },
      "source": [
        "<a href=\"https://colab.research.google.com/github/Gust40/colab/blob/master/Lista_4_Exerc%C3%ADcio_3.ipynb\" target=\"_parent\"><img src=\"https://colab.research.google.com/assets/colab-badge.svg\" alt=\"Open In Colab\"/></a>"
      ]
    },
    {
      "cell_type": "code",
      "metadata": {
        "id": "bisVXcfR6T9h"
      },
      "source": [
        "#Disciplina: Probabilidade e Estatística\n",
        "#Aluno: Gustavo Ferreira da Silva\n",
        "#Lista 4\n",
        "\n",
        "#Exercício 3\n",
        "\n",
        "valor1 = int(input('Digite valor 1: ')) \n",
        "valor2 = int(input('Digite valor 2: ')) #O usuário deve digitar os valores 1,2 e 3\n",
        "valor3 = int(input('Digite valor 3: '))\n",
        "if (valor1 > valor2) and (valor2 > valor3): #Se o valor 1 for maior que o valor 2 e o valor 3, então imprimir valor 1\n",
        "  print (valor1)\n",
        "elif (valor2 > valor1) and (valor1 > valor3): #Se o valor 2 for maior que o valor 1 e o valor 3, então imprimir valor 2\n",
        "  print (valor2)\n",
        "else:\n",
        "  print (valor3) #Caso o valor 1 e o valor 2 não sejam maiores que o valor 3, então imprimir valor 3"
      ],
      "execution_count": null,
      "outputs": []
    }
  ]
}