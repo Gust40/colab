{
  "nbformat": 4,
  "nbformat_minor": 0,
  "metadata": {
    "colab": {
      "name": "Lista5-Ex1.ipynb",
      "provenance": [],
      "collapsed_sections": [],
      "authorship_tag": "ABX9TyNNt8+TWn1agdnjkG1ZUt0J",
      "include_colab_link": true
    },
    "kernelspec": {
      "name": "python3",
      "display_name": "Python 3"
    }
  },
  "cells": [
    {
      "cell_type": "markdown",
      "metadata": {
        "id": "view-in-github",
        "colab_type": "text"
      },
      "source": [
        "<a href=\"https://colab.research.google.com/github/Gust40/colab/blob/master/Lista5_Ex1.ipynb\" target=\"_parent\"><img src=\"https://colab.research.google.com/assets/colab-badge.svg\" alt=\"Open In Colab\"/></a>"
      ]
    },
    {
      "cell_type": "code",
      "metadata": {
        "colab": {
          "base_uri": "https://localhost:8080/"
        },
        "id": "nrP5QxRhVHmq",
        "outputId": "ea8f03a6-86ba-4c97-9015-0b20c374f3e9"
      },
      "source": [
        "# Disciplina: Probabilidade e Estatística\n",
        "# Aluno: Gustavo Ferreira da Silva\n",
        "# Lista 5\n",
        "\n",
        "#Exercício 1\n",
        "\n",
        "import statistics #importa os calculos da biblioteca statistics\n",
        "from scipy.stats.mstats import gmean\n",
        "x = [10, 13, 17, 9, 8, 11, 13, 7] #Declarado uma lista em X\n",
        "#Letra A\n",
        "print(\"A média aritmética simples é:\", statistics.mean(x)) #calculo da media simples\n",
        "#Letra B\n",
        "print(\"A média harmônica é:\", statistics.harmonic_mean(x)) #calculo do media harmonica\n",
        "#Letra C\n",
        "print(\"A média geométrica é:\", gmean(x)) #calculo da media geometrica\n",
        "#Letra D\n",
        "print(\"A moda é:\", statistics.mode(x)) #calculo da moda\n",
        "#Letra E\n",
        "print(\"A variância é:\", statistics.variance(x)) #calculo da variancia\n",
        "#Letra F\n",
        "print(\"O desvio padrão é:\", statistics.stdev(x)) #calculo do desvio padrao\n",
        "\n"
      ],
      "execution_count": null,
      "outputs": [
        {
          "output_type": "stream",
          "text": [
            "A média aritmética simples é: 11\n",
            "A média harmônica é: 10.223027770053966\n",
            "A média geométrica é: 10.599121142601566\n",
            "A moda é: 13\n",
            "A variância é: 10.571428571428571\n",
            "O desvio padrão é: 3.251373336211726\n"
          ],
          "name": "stdout"
        }
      ]
    }
  ]
}