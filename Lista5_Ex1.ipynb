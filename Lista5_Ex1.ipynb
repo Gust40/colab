{
  "nbformat": 4,
  "nbformat_minor": 0,
  "metadata": {
    "colab": {
      "name": "Lista5-Ex1.ipynb",
      "provenance": [],
      "authorship_tag": "ABX9TyMk0RyKR72yTzsR/bNY5XD5",
      "include_colab_link": true
    },
    "kernelspec": {
      "name": "python3",
      "display_name": "Python 3"
    }
  },
  "cells": [
    {
      "cell_type": "markdown",
      "metadata": {
        "id": "view-in-github",
        "colab_type": "text"
      },
      "source": [
        "<a href=\"https://colab.research.google.com/github/Gust40/colab/blob/master/Lista5_Ex1.ipynb\" target=\"_parent\"><img src=\"https://colab.research.google.com/assets/colab-badge.svg\" alt=\"Open In Colab\"/></a>"
      ]
    },
    {
      "cell_type": "code",
      "metadata": {
        "colab": {
          "base_uri": "https://localhost:8080/"
        },
        "id": "nrP5QxRhVHmq",
        "outputId": "167de61c-0293-40cc-f9d2-92f01bc89d99"
      },
      "source": [
        "# Disciplina: Probabilidade e Estatística\n",
        "# Aluno: Gustavo Ferreira da Silva\n",
        "# Lista 5\n",
        "\n",
        "#Exercício 1\n",
        "\n",
        "import statistics #importa os calculos da biblioteca statistics\n",
        "x = [10, 13, 17, 9, 8, 11, 13, 7] #Declarado uma lista em X\n",
        "print(\"A média aritmética simples é:\", statistics.mean(x)) #calculo da media simples\n",
        "print(\"A média harmônica é:\", statistics.harmonic_mean(x)) #calculo do media harmonica\n",
        "print(\"A média geométrica é:\", gmean(x)) #calculo da media geometrica\n",
        "print(\"A moda é:\", statistics.mode(x)) #calculo da moda\n",
        "print(\"A variância é:\", statistics.variance(x)) #calculo da variancia\n",
        "print(\"O desvio padrão é:\", statistics.stdev(x)) #calculo do desvio padrao\n",
        "\n"
      ],
      "execution_count": 24,
      "outputs": [
        {
          "output_type": "stream",
          "text": [
            "A média aritmética simples é: 11\n",
            "A média harmônica é: 10.223027770053966\n",
            "A média geométrica é: 10.599121142601566\n",
            "A moda é: 13\n",
            "A variância é: 10.571428571428571\n",
            "O desvio padrão é: 3.251373336211726\n"
          ],
          "name": "stdout"
        }
      ]
    }
  ]
}