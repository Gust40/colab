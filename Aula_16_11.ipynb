{
  "nbformat": 4,
  "nbformat_minor": 0,
  "metadata": {
    "colab": {
      "name": "Aula-16-11.ipynb",
      "provenance": [],
      "authorship_tag": "ABX9TyP01MpAOCjJCevnzUtKmZrk",
      "include_colab_link": true
    },
    "kernelspec": {
      "name": "python3",
      "display_name": "Python 3"
    }
  },
  "cells": [
    {
      "cell_type": "markdown",
      "metadata": {
        "id": "view-in-github",
        "colab_type": "text"
      },
      "source": [
        "<a href=\"https://colab.research.google.com/github/Gust40/colab/blob/master/Aula_16_11.ipynb\" target=\"_parent\"><img src=\"https://colab.research.google.com/assets/colab-badge.svg\" alt=\"Open In Colab\"/></a>"
      ]
    },
    {
      "cell_type": "code",
      "metadata": {
        "id": "YXaWFFFg6c3M"
      },
      "source": [
        "'''import statistics\n",
        "l1 = [3.62, 5.25, 5.97, 0.62, 9.07, 2.22, 3.18, 9.07, 3.59, 2.96]\n",
        "Med_simp = statistics.mean(l1)\n",
        "print('A Média simples é:', round(Med_simp,2))\n",
        "Var = statistics.variance(l1)\n",
        "print('A variância é:', round(Var,2))\n",
        "Desv = statistics.stdev(l1)\n",
        "print('O desvio padrão é:', round(Desv,2))\n",
        "CV = Desv/Med_simp\n",
        "print('O Coeficiente de Variação é:', round(100*CV,2),'%')'''\n",
        "\n",
        "'''import statistics\n",
        "l1 = [3.62, 5.25, 5.97, 0.62, 9.07, 2.22, 3.18, 9.07, 3.59, 2.96]\n",
        "Moda = statistics.mode(l1)\n",
        "print('A moda é:', Moda)\n",
        "Mediana = statistics.median(l1)\n",
        "print('A mediana é:', Mediana)'''\n",
        "\n",
        "'''from scipy.stats.mstats import gmean\n",
        "l1 = [3.62, 5.25, 5.97, 0.62, 9.07, 2.22, 3.18, 9.07, 3.59, 2.96]\n",
        "Med_geom = gmean(l1)\n",
        "print('A média geométrica é:', round(Med_geom,2))'''\n",
        "\n",
        "'''import statistics\n",
        "#l1 = [3.62, 5.25, 5.97, 0.62, 9.07, 2.22, 3.18, 9.07, 3.59, 2.96]\n",
        "l2 = [2, 3, 5, 6, 9]\n",
        "Med_harm = statistics.harmonic_mean(l2)\n",
        "print('A Média Harmônica é', round(Med_harm,2))'''\n",
        "\n",
        "# Correlação Pearson!\n",
        "'''import pandas as pd\n",
        "dados = {'Salario':[2000, 4000, 6000, 8000, 10000, 15000],\n",
        "         'Carro':[20000, 30000, 50000, 60000, 80000, 100000]}\n",
        "df = pd.DataFrame(dados,columns = ['Salario', 'Carro'])\n",
        "Corr = df.corr()\n",
        "print(Corr)'''\n",
        "\n",
        "import pandas as pd\n",
        "import seaborn as sn\n",
        "import matplotlib.pyplot as plt\n",
        "data = {'Salario':[2000, 4000, 6000, 8000, 10000, 20000],\n",
        "        'Carro':[20000, 30000, 50000, 60000, 80000, 100000],\n",
        "        'Estudo':[8, 11, 13.5, 16, 18, 21]}\n",
        "df = pd.DataFrame(data,columns = ['Salario', 'Carro', 'Estudo'])\n",
        "Corr = df.corr()\n",
        "print(Corr)\n",
        "sn.heatmap(Corr, annot=True)\n",
        "plt.show()"
      ],
      "execution_count": null,
      "outputs": []
    }
  ]
}