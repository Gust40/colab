{
  "nbformat": 4,
  "nbformat_minor": 0,
  "metadata": {
    "colab": {
      "name": "Lista-4-Exercício-7.ipynb",
      "provenance": [],
      "authorship_tag": "ABX9TyNrokpEQGGk4aNsSNCHpgQR",
      "include_colab_link": true
    },
    "kernelspec": {
      "name": "python3",
      "display_name": "Python 3"
    }
  },
  "cells": [
    {
      "cell_type": "markdown",
      "metadata": {
        "id": "view-in-github",
        "colab_type": "text"
      },
      "source": [
        "<a href=\"https://colab.research.google.com/github/Gust40/colab/blob/master/Lista_4_Exerc%C3%ADcio_7.ipynb\" target=\"_parent\"><img src=\"https://colab.research.google.com/assets/colab-badge.svg\" alt=\"Open In Colab\"/></a>"
      ]
    },
    {
      "cell_type": "code",
      "metadata": {
        "id": "gW5sS_aJGCE3"
      },
      "source": [
        "#Disciplina: Probabilidade e Estatística\n",
        "#Aluno: Gustavo Ferreira da Silva\n",
        "#Lista 4\n",
        "\n",
        "#Exercício 7\n",
        "\n",
        "a = int(input('Digite um número entre 1 e 4: ')) #O usuário deve digitar um número entre 1 e 4\n",
        "if a == 1 or a == 2 or a == 3 or a ==4: #Se o numero digitado estiver entre 1 e 4\n",
        "  print(a) #Imprimir a\n",
        "else: # Se não\n",
        "  while True: #Enquanto o numero não estiver entre 1 e 4\n",
        "    print('entrada inválida') #Imprmir entrada inválida\n",
        "    a = int(input('Digite um número entre 1 e 4: ')) # e pedir para digitar um numero entre 1 e 4 novamente\n",
        "    if a == 1 or a == 2 or a == 3 or a ==4: #Se o numero digitado estiver entre 1 e 4\n",
        "      print(a) # Imprmir a\n",
        "      break #Parar o programa se este if atender à exigência, se não atender irá pedir um número novamente"
      ],
      "execution_count": null,
      "outputs": []
    }
  ]
}