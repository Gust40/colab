{
  "nbformat": 4,
  "nbformat_minor": 0,
  "metadata": {
    "colab": {
      "name": "Lista5-Ex3.ipynb",
      "provenance": [],
      "authorship_tag": "ABX9TyPxaj/O7S8UMzdgVVmQe1o8",
      "include_colab_link": true
    },
    "kernelspec": {
      "name": "python3",
      "display_name": "Python 3"
    }
  },
  "cells": [
    {
      "cell_type": "markdown",
      "metadata": {
        "id": "view-in-github",
        "colab_type": "text"
      },
      "source": [
        "<a href=\"https://colab.research.google.com/github/Gust40/colab/blob/master/Lista5_Ex3.ipynb\" target=\"_parent\"><img src=\"https://colab.research.google.com/assets/colab-badge.svg\" alt=\"Open In Colab\"/></a>"
      ]
    },
    {
      "cell_type": "code",
      "metadata": {
        "colab": {
          "base_uri": "https://localhost:8080/"
        },
        "id": "lvSTqWs3kDJa",
        "outputId": "53a0eb81-5480-4da7-b1e8-0592812e09f4"
      },
      "source": [
        "# Disciplina: Probabilidade e Estatística\n",
        "# Aluno: Gustavo Ferreira da Silva\n",
        "# Lista 5\n",
        "\n",
        "#Exercício 3\n",
        "import statistics #importa os calculos da biblioteca statistics\n",
        "x = [4.0, 4.5, 5.0, 5.0, 5.0, 5.5, 6.0, 6.0, 6.5, 6.5, 6.5, 6.5, 7.0, 7.0, 7.0, 7.0, 7.0, 7.0, 7.5, 8.5, 9.0, 9.0, 9.0, 9.5, 10.0, 10.0, 10.5, 10.5, 11.0, 12.0, 12.5, 13.0, 13.0] #Declarada uma lista de valores em X\n",
        "CV = (statistics.stdev(x)/statistics.mean(x))*100 #Calculo do coeficiente de variação em que se divide o desvio padrão pela media simples e multiplica o resultado por 100\n",
        "print(CV) #Mostrar na tela o resultado"
      ],
      "execution_count": 4,
      "outputs": [
        {
          "output_type": "stream",
          "text": [
            "31.715286140913186\n"
          ],
          "name": "stdout"
        }
      ]
    }
  ]
}