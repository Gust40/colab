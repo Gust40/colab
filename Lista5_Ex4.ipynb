{
  "nbformat": 4,
  "nbformat_minor": 0,
  "metadata": {
    "colab": {
      "name": "Lista5-Ex4.ipynb",
      "provenance": [],
      "authorship_tag": "ABX9TyMNFwPzO5i/lMkp/7kvsU0Q",
      "include_colab_link": true
    },
    "kernelspec": {
      "name": "python3",
      "display_name": "Python 3"
    }
  },
  "cells": [
    {
      "cell_type": "markdown",
      "metadata": {
        "id": "view-in-github",
        "colab_type": "text"
      },
      "source": [
        "<a href=\"https://colab.research.google.com/github/Gust40/colab/blob/master/Lista5_Ex4.ipynb\" target=\"_parent\"><img src=\"https://colab.research.google.com/assets/colab-badge.svg\" alt=\"Open In Colab\"/></a>"
      ]
    },
    {
      "cell_type": "code",
      "metadata": {
        "colab": {
          "base_uri": "https://localhost:8080/"
        },
        "id": "S8iV1hHfmtGs",
        "outputId": "3782bbfc-a331-4a54-cc3e-ebd6a1eec52e"
      },
      "source": [
        "# Disciplina: Probabilidade e Estatística\n",
        "# Aluno: Gustavo Ferreira da Silva\n",
        "# Lista 5\n",
        "\n",
        "#Exercício 4\n",
        "\n",
        "import statistics #importa os calculos da biblioteca statistics\n",
        "x = [12, 15, 18, 22, 17, 14, 18, 23, 29, 12]\n",
        "#Letra A\n",
        "print(\"O valor da produção média é:\", statistics.mean(x)) #calculo da media simples\n",
        "#Letra B\n",
        "print(\"O valor da mediana de produção é:\", statistics.median(x)) #calculo da mediana\n",
        "#Letra C\n",
        "print(\"O valor do desvio padrão da produção é:\", statistics.stdev(x)) #calculo do desvio padrao\n"
      ],
      "execution_count": 2,
      "outputs": [
        {
          "output_type": "stream",
          "text": [
            "O valor da produção média é: 18\n",
            "O valor da mediana de produção é: 17.5\n",
            "O valor do desvio padrão da produção é: 5.374838498865699\n"
          ],
          "name": "stdout"
        }
      ]
    }
  ]
}