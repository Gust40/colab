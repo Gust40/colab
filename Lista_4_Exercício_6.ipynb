{
  "nbformat": 4,
  "nbformat_minor": 0,
  "metadata": {
    "colab": {
      "name": "Lista-4-Exercício-6.ipynb",
      "provenance": [],
      "authorship_tag": "ABX9TyM+YbvYkOndQTRzzrpAa6oS",
      "include_colab_link": true
    },
    "kernelspec": {
      "name": "python3",
      "display_name": "Python 3"
    }
  },
  "cells": [
    {
      "cell_type": "markdown",
      "metadata": {
        "id": "view-in-github",
        "colab_type": "text"
      },
      "source": [
        "<a href=\"https://colab.research.google.com/github/Gust40/colab/blob/master/Lista_4_Exerc%C3%ADcio_6.ipynb\" target=\"_parent\"><img src=\"https://colab.research.google.com/assets/colab-badge.svg\" alt=\"Open In Colab\"/></a>"
      ]
    },
    {
      "cell_type": "code",
      "metadata": {
        "id": "FaKcVLeNA_ws"
      },
      "source": [
        "#Disciplina: Probabilidade e Estatística\n",
        "#Aluno: Gustavo Ferreira da Silva\n",
        "#Lista 4\n",
        "\n",
        "#Exercício 6\n",
        "\n",
        "z = int(input('Digite um número: ')) #O usuário deve digitar um número inteiro\n",
        "x = 0 #Declarado que X = 0\n",
        "while x<=z: #Enquanto x for menor ou igual à z\n",
        "  print(x) #imprimir x\n",
        "  x+=1 #imprimir x + 1\n"
      ],
      "execution_count": null,
      "outputs": []
    }
  ]
}