{
  "nbformat": 4,
  "nbformat_minor": 0,
  "metadata": {
    "colab": {
      "name": "Aula-19-10.ipynb",
      "provenance": [],
      "authorship_tag": "ABX9TyPBFt49JjGJ3QxSwYi9iwiu",
      "include_colab_link": true
    },
    "kernelspec": {
      "name": "python3",
      "display_name": "Python 3"
    }
  },
  "cells": [
    {
      "cell_type": "markdown",
      "metadata": {
        "id": "view-in-github",
        "colab_type": "text"
      },
      "source": [
        "<a href=\"https://colab.research.google.com/github/Gust40/colab/blob/master/Aula_19_10.ipynb\" target=\"_parent\"><img src=\"https://colab.research.google.com/assets/colab-badge.svg\" alt=\"Open In Colab\"/></a>"
      ]
    },
    {
      "cell_type": "code",
      "metadata": {
        "id": "8v2kOEYdeZYo",
        "outputId": "76690ec1-bc41-417b-fbb9-a3be21381d44",
        "colab": {
          "base_uri": "https://localhost:8080/",
          "height": 34
        }
      },
      "source": [
        "'''print('a'=='b')\n",
        "print(2.00==2)\n",
        "print(2>=2)\n",
        "print(9>5>3>=3<1)\n",
        "print(9>5 and 5>3 and 3>=3 and 3>1)\n",
        "print(4>3 or 5>5)\n",
        "print(not(4>3 or 5>5))\n",
        "print(not(not(4>3 or 5>5)))'''\n",
        "\n",
        "'''fome = True\n",
        "if fome:\n",
        "  print('Comida!')\n",
        "else:\n",
        "  print('Sem fome')'''\n",
        "\n",
        "'''loc = 'Loja'\n",
        "if loc == 'Banco':\n",
        "  print('Estou no Banco')\n",
        "elif loc == 'Lava Jato':\n",
        "  print('Lavando o carro')\n",
        "elif loc == 'Loja':\n",
        "  print('Comprando')\n",
        "else:\n",
        "    print('Outro lugar')'''\n",
        "\n",
        "'''frase = 'Vacina será liberada no menor tempo possível, diz Anvisa'\n",
        "if 'tempo' in frase:\n",
        "  print('A palavra tempo está na frase')\n",
        "else:\n",
        "  print('A palavra tempo NÃO está na frase')'''\n",
        "\n",
        "'''frase = 'Vacina será liberada no menor TemPo possível, diz Anvisa'\n",
        "if 'tempo' in frase.lower():\n",
        "  print('A palavra tempo está na frase')\n",
        "else:\n",
        "  print('A palavra tempo NÃO está na frase')'''\n",
        "\n",
        "'''lista1 = [4, 'carro', 5.5, True]\n",
        "if 'carro' in lista1:\n",
        "  print('presente')\n",
        "else:\n",
        "  print('Ausente')'''\n",
        "\n",
        "\n"
      ],
      "execution_count": 16,
      "outputs": [
        {
          "output_type": "stream",
          "text": [
            "presente\n"
          ],
          "name": "stdout"
        }
      ]
    }
  ]
}