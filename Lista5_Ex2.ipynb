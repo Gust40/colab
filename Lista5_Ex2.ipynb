{
  "nbformat": 4,
  "nbformat_minor": 0,
  "metadata": {
    "colab": {
      "name": "Lista5-Ex2.ipynb",
      "provenance": [],
      "authorship_tag": "ABX9TyOlSedaDFnuEvDp7PE7VTcX",
      "include_colab_link": true
    },
    "kernelspec": {
      "name": "python3",
      "display_name": "Python 3"
    }
  },
  "cells": [
    {
      "cell_type": "markdown",
      "metadata": {
        "id": "view-in-github",
        "colab_type": "text"
      },
      "source": [
        "<a href=\"https://colab.research.google.com/github/Gust40/colab/blob/master/Lista5_Ex2.ipynb\" target=\"_parent\"><img src=\"https://colab.research.google.com/assets/colab-badge.svg\" alt=\"Open In Colab\"/></a>"
      ]
    },
    {
      "cell_type": "code",
      "metadata": {
        "colab": {
          "base_uri": "https://localhost:8080/"
        },
        "id": "ZFSEkmvjgvbu",
        "outputId": "b1a961fe-5333-478e-b92e-ec18a3d38bcb"
      },
      "source": [
        "# Disciplina: Probabilidade e Estatística\n",
        "# Aluno: Gustavo Ferreira da Silva\n",
        "# Lista 5\n",
        "\n",
        "#Exercício 2\n",
        "\n",
        "import statistics #importa os calculos da biblioteca statistics\n",
        "from scipy.stats.mstats import gmean\n",
        "x = [67, 75, 63, 72, 77, 78, 81, 77, 80] #Declarado uma lista em X\n",
        "#Letra A\n",
        "print(\"A média aritmética simples é:\", statistics.mean(x)) #calculo da media simples\n",
        "print(\"A média harmônica é:\", statistics.harmonic_mean(x)) #calculo do media harmonica\n",
        "print(\"A média geométrica é:\", gmean(x)) #calculo da media geometrica\n",
        "#Letra B\n",
        "print(\"A moda é:\", statistics.mode(x)) #calculo da moda\n",
        "#Letra C\n",
        "print(\"A mediana é:\", statistics.median(x)) #calculo da mediana\n",
        "#Letra D\n",
        "print(\"A variância é:\", statistics.variance(x)) #calculo da variancia\n",
        "#Letra E\n",
        "print(\"O desvio padrão é:\", statistics.stdev(x)) #calculo do desvio padrao\n"
      ],
      "execution_count": 4,
      "outputs": [
        {
          "output_type": "stream",
          "text": [
            "A média aritmética simples é: 74.44444444444444\n",
            "A média harmônica é: 73.9761521541457\n",
            "A média geométrica é: 74.21566351300045\n",
            "A moda é: 77\n",
            "A mediana é: 77\n",
            "A variância é: 36.52777777777778\n",
            "O desvio padrão é: 6.043821454822915\n"
          ],
          "name": "stdout"
        }
      ]
    }
  ]
}