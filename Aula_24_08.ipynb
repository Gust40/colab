{
  "nbformat": 4,
  "nbformat_minor": 0,
  "metadata": {
    "colab": {
      "name": "Aula-24-08.ipynb",
      "provenance": [],
      "authorship_tag": "ABX9TyP67AeAGDEbSCsFe0JQHJkI",
      "include_colab_link": true
    },
    "kernelspec": {
      "name": "python3",
      "display_name": "Python 3"
    }
  },
  "cells": [
    {
      "cell_type": "markdown",
      "metadata": {
        "id": "view-in-github",
        "colab_type": "text"
      },
      "source": [
        "<a href=\"https://colab.research.google.com/github/Gust40/colab/blob/master/Aula_24_08.ipynb\" target=\"_parent\"><img src=\"https://colab.research.google.com/assets/colab-badge.svg\" alt=\"Open In Colab\"/></a>"
      ]
    },
    {
      "cell_type": "code",
      "metadata": {
        "id": "3e8RemC6xIRM",
        "colab_type": "code",
        "colab": {
          "base_uri": "https://localhost:8080/",
          "height": 51
        },
        "outputId": "92774e3c-9de5-48b1-ed35-c25ecfe84308"
      },
      "source": [
        "''' a = 'Oi '\n",
        "b = 'Tudo '\n",
        "c = 'bem?\\n'\n",
        "d = a + b + c\n",
        "#print(d)\n",
        "d=4*d\n",
        "print(d) '''\n",
        "\n",
        "'''x = 'Matéria Probabilidade e Estatística com Python'\n",
        "print(x)\n",
        "y=x.split()\n",
        "print(y)\n",
        "z = x.split('a')\n",
        "print(z)'''\n",
        "\n",
        "v1 = 'Os carros são: {}, {} e {}'\n",
        "carro0 = 'polo'\n",
        "carro1 = 'compass'\n",
        "carro2 = 'palio'\n",
        "print(v1.format(carro0, carro1, carro2))\n",
        "#print(v1)\n",
        "v2 = 'Os carros são: {0}, {2} e {2}'\n",
        "print(v2.format(carro0, carro1, carro2))"
      ],
      "execution_count": 1,
      "outputs": [
        {
          "output_type": "stream",
          "text": [
            "Os carros são: polo, compass e palio\n",
            "Os carros são: polo, palio e palio\n"
          ],
          "name": "stdout"
        }
      ]
    }
  ]
}