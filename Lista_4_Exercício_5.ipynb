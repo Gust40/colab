{
  "nbformat": 4,
  "nbformat_minor": 0,
  "metadata": {
    "colab": {
      "name": "Lista-4-Exercício-5.ipynb",
      "provenance": [],
      "authorship_tag": "ABX9TyOVoPQbQKwuc0wq22x4UKL1",
      "include_colab_link": true
    },
    "kernelspec": {
      "name": "python3",
      "display_name": "Python 3"
    }
  },
  "cells": [
    {
      "cell_type": "markdown",
      "metadata": {
        "id": "view-in-github",
        "colab_type": "text"
      },
      "source": [
        "<a href=\"https://colab.research.google.com/github/Gust40/colab/blob/master/Lista_4_Exerc%C3%ADcio_5.ipynb\" target=\"_parent\"><img src=\"https://colab.research.google.com/assets/colab-badge.svg\" alt=\"Open In Colab\"/></a>"
      ]
    },
    {
      "cell_type": "code",
      "metadata": {
        "colab": {
          "base_uri": "https://localhost:8080/"
        },
        "id": "u4HTBrnE92GK",
        "outputId": "65d82512-9d77-403e-8b8b-cc2c829a7133"
      },
      "source": [
        "#Disciplina: Probabilidade e Estatística\n",
        "#Aluno: Gustavo Ferreira da Silva\n",
        "#Lista 4\n",
        "\n",
        "#Exercício 5\n",
        "\n",
        "a = float(input('Digite o primeiro ângulo: '))\n",
        "b = float(input('Digite o segundo ângulo: ')) #O usuário deve digitar os valores dos ângulos do triângulo\n",
        "c = float(input('Digite o terceiro ângulo: '))\n",
        "if a == 90 or b == 90 or c == 90: #Se algum dos ângulos for igual a 90\n",
        "  print('É um triângulo retângulo') #Imprimir que é um triângulo retângulo\n",
        "elif a < 90 and b < 90 and c < 90: #Se todos os ângulos forem menor que 90\n",
        "  print('É um triângulo acutângulo') #Imprimir que é um triângulo acutângulo\n",
        "else: #Caso possua um ângulo maior que 90\n",
        "  print('É um triângulo obtusângulo') #Imprimir que é um triângulo obtusângulo"
      ],
      "execution_count": 10,
      "outputs": [
        {
          "output_type": "stream",
          "text": [
            "Digite o primeiro ângulo: 91\n",
            "Digite o segundo ângulo: 90\n",
            "Digite o terceiro ângulo: 23\n",
            "É um triângulo retângulo\n"
          ],
          "name": "stdout"
        }
      ]
    }
  ]
}